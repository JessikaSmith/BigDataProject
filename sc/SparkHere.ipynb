{
 "cells": [
  {
   "cell_type": "code",
   "execution_count": 2,
   "metadata": {
    "collapsed": true
   },
   "outputs": [],
   "source": [
    "import findspark\n",
    "findspark.init()\n",
    "import pyspark"
   ]
  },
  {
   "cell_type": "code",
   "execution_count": 3,
   "metadata": {},
   "outputs": [],
   "source": [
    "from pyspark.sql import SparkSession\n",
    "from pyspark.sql.functions import *\n",
    "from pyspark.sql.types import *\n",
    "from pyspark.sql.window import Window\n",
    "import datetime, time "
   ]
  },
  {
   "cell_type": "code",
   "execution_count": 4,
   "metadata": {
    "collapsed": true
   },
   "outputs": [],
   "source": [
    "spark = SparkSession.builder.enableHiveSupport().master(\"local[*]\").appName(\"Twitter Stat\").getOrCreate() "
   ]
  },
  {
   "cell_type": "code",
   "execution_count": 20,
   "metadata": {},
   "outputs": [],
   "source": [
    "data = spark.read.parquet(\"../data/twitter_sentiment.parquet\").drop('__index_level_0__').cache()"
   ]
  },
  {
   "cell_type": "code",
   "execution_count": 102,
   "metadata": {},
   "outputs": [],
   "source": [
    "splitting2 = udf(lambda t: [(int(x.split(' : ')[0]) if x.split(' : ')[0]!='None' else int(-1)) for x in t.split(', ') if t is not None], ArrayType(IntegerType()))"
   ]
  },
  {
   "cell_type": "code",
   "execution_count": 108,
   "metadata": {},
   "outputs": [],
   "source": [
    "data2 = data.filter(col(\"retweets_id\").isNotNull())\\\n",
    ".withColumn('retweeted_by', splitting2('retweets_id'))"
   ]
  },
  {
   "cell_type": "code",
   "execution_count": 105,
   "metadata": {},
   "outputs": [
    {
     "name": "stdout",
     "output_type": "stream",
     "text": [
      "+--------------------+\n",
      "|         retweets_id|\n",
      "+--------------------+\n",
      "|170519827 : Nobuh...|\n",
      "|77109517 : GiLyn0...|\n",
      "|82935160 : iAmCar...|\n",
      "|82935160 : iAmCar...|\n",
      "|82935160 : iAmCar...|\n",
      "|2256452099 : kere...|\n",
      "|171761415 : kenzo...|\n",
      "|132059870 : passi...|\n",
      "|132059870 : passi...|\n",
      "|132059870 : passi...|\n",
      "|110195545 : herli...|\n",
      "|132059870 : passi...|\n",
      "|4864223733 : idek...|\n",
      "|116242899 : Math_...|\n",
      "|73769045 : deijah...|\n",
      "|         None : None|\n",
      "|634640412 : s_log...|\n",
      "|         None : None|\n",
      "|   550440107 : _OHok|\n",
      "|2808093521 : buen...|\n",
      "|79877567519262311...|\n",
      "|127642577 : uhcry...|\n",
      "|    22461067 : Eat24|\n",
      "|63032383 : alrush...|\n",
      "|74002222 : kikilapew|\n",
      "|     18997982 : Nace|\n",
      "|31184208 : wouldn...|\n",
      "|490025224 : beach...|\n",
      "|220584725 : Indig...|\n",
      "|485895136 : jakcb...|\n",
      "|169763569 : DezGr...|\n",
      "|346224494 : Music...|\n",
      "|272777994 : Cilla...|\n",
      "|220584725 : Indig...|\n",
      "|130429504 : mynam...|\n",
      "|424026099 : JustK...|\n",
      "|194339143 : PRang...|\n",
      "|85564783 : ecowch...|\n",
      "|52235078 : a_ubes...|\n",
      "|372622706 : MayaH...|\n",
      "|55150831 : wileys...|\n",
      "|182856190 : WellM...|\n",
      "|53983002 : JoeyRP...|\n",
      "|62451311 : itsxti...|\n",
      "|484412249 : Danie...|\n",
      "|187338539 : tiran...|\n",
      "|432785483 : ashaw...|\n",
      "|46483049 : haus_m...|\n",
      "|18227998 : candac...|\n",
      "|71308193368579276...|\n",
      "|24335624 : Cruzan...|\n",
      "|300231140 : lovem...|\n",
      "|18908118 : postma...|\n",
      "|220584725 : Indig...|\n",
      "|27222771 : xaby_x...|\n",
      "|484412249 : Danie...|\n",
      "|195373858 : sanga...|\n",
      "|325076723 : zelli...|\n",
      "|256190277 : Alysi...|\n",
      "|89113169 : schmer...|\n",
      "|220584725 : Indig...|\n",
      "|243831533 : Andis...|\n",
      "|220584725 : Indig...|\n",
      "|1267229359 : MKal...|\n",
      "|393636379 : JEL_9...|\n",
      "|343537911 : ESS_2...|\n",
      "|         None : None|\n",
      "|384939167 : emman...|\n",
      "|351313466 : loves...|\n",
      "|461709336 : VCEIP...|\n",
      "|3298483208 : avia...|\n",
      "|23492597 : heyits...|\n",
      "|18275658 : Sinnam...|\n",
      "|467045220 : felic...|\n",
      "|479248455 : _incR...|\n",
      "|432785483 : ashaw...|\n",
      "|454501787 : Growi...|\n",
      "|32633058 : LaLa_1...|\n",
      "|484412249 : Danie...|\n",
      "|393636379 : JEL_9...|\n",
      "|220584725 : Indig...|\n",
      "|270821233 : siemp...|\n",
      "|293202306 : KimsR...|\n",
      "|393636379 : JEL_9...|\n",
      "|356680853 : KAMOG...|\n",
      "|68301976 : Buckey...|\n",
      "|56845154 : knarve...|\n",
      "|46752512 : JERSEY...|\n",
      "|267006068 : alvee...|\n",
      "|220584725 : Indig...|\n",
      "|228921391 : getwr...|\n",
      "|428756466 : Kris_...|\n",
      "|48583963 : prisci...|\n",
      "|  28308661 : MissSkK|\n",
      "|53204867 : alaiwa...|\n",
      "|220584725 : Indig...|\n",
      "|50712619 : Grainn...|\n",
      "|24475341 : Rachel...|\n",
      "|484412249 : Danie...|\n",
      "|488560089 : zaq28...|\n",
      "+--------------------+\n",
      "only showing top 100 rows\n",
      "\n"
     ]
    }
   ],
   "source": [
    "data.filter(col(\"retweets_id\").isNotNull()).select('retweets_id').show(100)"
   ]
  },
  {
   "cell_type": "code",
   "execution_count": 112,
   "metadata": {},
   "outputs": [
    {
     "name": "stdout",
     "output_type": "stream",
     "text": [
      "+---------------+-----------+\n",
      "|       username| retweet_by|\n",
      "+---------------+-----------+\n",
      "|          Oprah|  170519827|\n",
      "|          Oprah|  120973356|\n",
      "|          Oprah|   60787363|\n",
      "|          Oprah|  116340070|\n",
      "|          Oprah|   34987008|\n",
      "|          Oprah|  156160449|\n",
      "|          Oprah|   44327116|\n",
      "|          Oprah|  246709170|\n",
      "|          Oprah|  214405332|\n",
      "|          Oprah|  245554706|\n",
      "|          Oprah|  105950414|\n",
      "|          Oprah|  133736948|\n",
      "|          Oprah|  225810702|\n",
      "|          Oprah|  184817646|\n",
      "|          Oprah|  244965660|\n",
      "|          Oprah|  194991720|\n",
      "|          Oprah|  185213404|\n",
      "|          Oprah|  244013853|\n",
      "|          Oprah|  241762756|\n",
      "|          Oprah|   19465759|\n",
      "|          Oprah|  243036302|\n",
      "|          Oprah|  242640451|\n",
      "|          Oprah|   77350975|\n",
      "|          Oprah|  104064055|\n",
      "|          Oprah|  167673161|\n",
      "|          Oprah|   77109517|\n",
      "|          Oprah|  241462731|\n",
      "|          Oprah|  165911293|\n",
      "|          Oprah|  170519827|\n",
      "|          Oprah|  257592361|\n",
      "|          Oprah|  150382956|\n",
      "|          Oprah|  120973356|\n",
      "|          Oprah|  164546942|\n",
      "|          Oprah|  123233354|\n",
      "|          Oprah|  186850893|\n",
      "|          Oprah|  249507254|\n",
      "|          Oprah|  249164134|\n",
      "|          Oprah|   48976635|\n",
      "|          Oprah|  249070810|\n",
      "|          Oprah|  119228425|\n",
      "|          Oprah|  216714333|\n",
      "|          Oprah|   40372606|\n",
      "|          Oprah|  126822391|\n",
      "|          Oprah|   77703233|\n",
      "|          Oprah|  167897570|\n",
      "|          Oprah|   87441604|\n",
      "|          Oprah|   47049114|\n",
      "|          Oprah|   25078589|\n",
      "|          Oprah|  242457064|\n",
      "|          Oprah|   89573484|\n",
      "|          Oprah|   82935160|\n",
      "|          Oprah|  132059870|\n",
      "|          Oprah|   44327116|\n",
      "|          Oprah|   82935160|\n",
      "|          Oprah|   36168265|\n",
      "|          Oprah|   59709311|\n",
      "|          Oprah|  132059870|\n",
      "|          Oprah|   44327116|\n",
      "|          Oprah|   82935160|\n",
      "|          Oprah|   23073168|\n",
      "|          Oprah|  132059870|\n",
      "|          Oprah|   44327116|\n",
      "|          Oprah|-2038515197|\n",
      "|          Oprah|   47576617|\n",
      "|          Oprah|  130911619|\n",
      "|          Oprah|  132059870|\n",
      "|          Oprah|  171761415|\n",
      "|          Oprah|  132059870|\n",
      "|          Oprah|   44327116|\n",
      "|          Oprah|   14750455|\n",
      "|          Oprah|   20787631|\n",
      "|          Oprah|   91582702|\n",
      "|          Oprah|  132059870|\n",
      "|          Oprah|   44327116|\n",
      "|          Oprah|   33177475|\n",
      "|          Oprah|         -1|\n",
      "|          Oprah|  132059870|\n",
      "|          Oprah|   44327116|\n",
      "|          Oprah|  100562442|\n",
      "|          Oprah|   94762229|\n",
      "|          Oprah|  132059870|\n",
      "|          Oprah|  108247364|\n",
      "|          Oprah|   44327116|\n",
      "|          Oprah|  110195545|\n",
      "|          Oprah|   82935160|\n",
      "|          Oprah|  130911619|\n",
      "|          Oprah|  132059870|\n",
      "|          Oprah|   44327116|\n",
      "|          Oprah|  132059870|\n",
      "|          Oprah|   44327116|\n",
      "|          Oprah|  569256437|\n",
      "|          Oprah|   64843181|\n",
      "|          Oprah|  189160806|\n",
      "|          Oprah|  171761415|\n",
      "|          Oprah|   14750455|\n",
      "|          Oprah|   63547664|\n",
      "|          Oprah|  132059870|\n",
      "|          Oprah|         -1|\n",
      "|   PedroBorelli|  116242899|\n",
      "|iIndependentRee|   73769045|\n",
      "+---------------+-----------+\n",
      "only showing top 100 rows\n",
      "\n"
     ]
    }
   ],
   "source": [
    "data2.withColumn('retweet_by', explode(col('retweeted_by'))).select('username', 'retweet_by').show(100)"
   ]
  },
  {
   "cell_type": "code",
   "execution_count": 43,
   "metadata": {},
   "outputs": [
    {
     "ename": "AnalysisException",
     "evalue": "\"cannot resolve '`retweeted_by`' given input columns: [date_time, username, id, reply_to, url, likes_id, mod_text, positive, retweets, retweets_id, replies, favorites, negative, picture];;\\n'Project ['retweeted_by]\\n+- AnalysisBarrier\\n      +- Project [id#912L, username#913, date_time#914, url#915, reply_to#916, retweets#917L, favorites#918L, likes_id#919, retweets_id#920, picture#921, replies#922L, mod_text#923, positive#924, negative#925]\\n         +- Relation[id#912L,username#913,date_time#914,url#915,reply_to#916,retweets#917L,favorites#918L,likes_id#919,retweets_id#920,picture#921,replies#922L,mod_text#923,positive#924,negative#925,__index_level_0__#926L] parquet\\n\"",
     "output_type": "error",
     "traceback": [
      "\u001b[0;31m---------------------------------------------------------------------------\u001b[0m",
      "\u001b[0;31mPy4JJavaError\u001b[0m                             Traceback (most recent call last)",
      "\u001b[0;32m~/Apache/spark-2.3.0/python/pyspark/sql/utils.py\u001b[0m in \u001b[0;36mdeco\u001b[0;34m(*a, **kw)\u001b[0m\n\u001b[1;32m     62\u001b[0m         \u001b[0;32mtry\u001b[0m\u001b[0;34m:\u001b[0m\u001b[0;34m\u001b[0m\u001b[0m\n\u001b[0;32m---> 63\u001b[0;31m             \u001b[0;32mreturn\u001b[0m \u001b[0mf\u001b[0m\u001b[0;34m(\u001b[0m\u001b[0;34m*\u001b[0m\u001b[0ma\u001b[0m\u001b[0;34m,\u001b[0m \u001b[0;34m**\u001b[0m\u001b[0mkw\u001b[0m\u001b[0;34m)\u001b[0m\u001b[0;34m\u001b[0m\u001b[0m\n\u001b[0m\u001b[1;32m     64\u001b[0m         \u001b[0;32mexcept\u001b[0m \u001b[0mpy4j\u001b[0m\u001b[0;34m.\u001b[0m\u001b[0mprotocol\u001b[0m\u001b[0;34m.\u001b[0m\u001b[0mPy4JJavaError\u001b[0m \u001b[0;32mas\u001b[0m \u001b[0me\u001b[0m\u001b[0;34m:\u001b[0m\u001b[0;34m\u001b[0m\u001b[0m\n",
      "\u001b[0;32m~/Apache/spark-2.3.0/python/lib/py4j-0.10.6-src.zip/py4j/protocol.py\u001b[0m in \u001b[0;36mget_return_value\u001b[0;34m(answer, gateway_client, target_id, name)\u001b[0m\n\u001b[1;32m    319\u001b[0m                     \u001b[0;34m\"An error occurred while calling {0}{1}{2}.\\n\"\u001b[0m\u001b[0;34m.\u001b[0m\u001b[0;34m\u001b[0m\u001b[0m\n\u001b[0;32m--> 320\u001b[0;31m                     format(target_id, \".\", name), value)\n\u001b[0m\u001b[1;32m    321\u001b[0m             \u001b[0;32melse\u001b[0m\u001b[0;34m:\u001b[0m\u001b[0;34m\u001b[0m\u001b[0m\n",
      "\u001b[0;31mPy4JJavaError\u001b[0m: An error occurred while calling o459.select.\n: org.apache.spark.sql.AnalysisException: cannot resolve '`retweeted_by`' given input columns: [date_time, username, id, reply_to, url, likes_id, mod_text, positive, retweets, retweets_id, replies, favorites, negative, picture];;\n'Project ['retweeted_by]\n+- AnalysisBarrier\n      +- Project [id#912L, username#913, date_time#914, url#915, reply_to#916, retweets#917L, favorites#918L, likes_id#919, retweets_id#920, picture#921, replies#922L, mod_text#923, positive#924, negative#925]\n         +- Relation[id#912L,username#913,date_time#914,url#915,reply_to#916,retweets#917L,favorites#918L,likes_id#919,retweets_id#920,picture#921,replies#922L,mod_text#923,positive#924,negative#925,__index_level_0__#926L] parquet\n\n\tat org.apache.spark.sql.catalyst.analysis.package$AnalysisErrorAt.failAnalysis(package.scala:42)\n\tat org.apache.spark.sql.catalyst.analysis.CheckAnalysis$$anonfun$checkAnalysis$1$$anonfun$apply$2.applyOrElse(CheckAnalysis.scala:88)\n\tat org.apache.spark.sql.catalyst.analysis.CheckAnalysis$$anonfun$checkAnalysis$1$$anonfun$apply$2.applyOrElse(CheckAnalysis.scala:85)\n\tat org.apache.spark.sql.catalyst.trees.TreeNode$$anonfun$transformUp$1.apply(TreeNode.scala:289)\n\tat org.apache.spark.sql.catalyst.trees.TreeNode$$anonfun$transformUp$1.apply(TreeNode.scala:289)\n\tat org.apache.spark.sql.catalyst.trees.CurrentOrigin$.withOrigin(TreeNode.scala:70)\n\tat org.apache.spark.sql.catalyst.trees.TreeNode.transformUp(TreeNode.scala:288)\n\tat org.apache.spark.sql.catalyst.plans.QueryPlan$$anonfun$transformExpressionsUp$1.apply(QueryPlan.scala:95)\n\tat org.apache.spark.sql.catalyst.plans.QueryPlan$$anonfun$transformExpressionsUp$1.apply(QueryPlan.scala:95)\n\tat org.apache.spark.sql.catalyst.plans.QueryPlan.transformExpression$1(QueryPlan.scala:106)\n\tat org.apache.spark.sql.catalyst.plans.QueryPlan.org$apache$spark$sql$catalyst$plans$QueryPlan$$recursiveTransform$1(QueryPlan.scala:116)\n\tat org.apache.spark.sql.catalyst.plans.QueryPlan$$anonfun$org$apache$spark$sql$catalyst$plans$QueryPlan$$recursiveTransform$1$1.apply(QueryPlan.scala:120)\n\tat scala.collection.TraversableLike$$anonfun$map$1.apply(TraversableLike.scala:234)\n\tat scala.collection.TraversableLike$$anonfun$map$1.apply(TraversableLike.scala:234)\n\tat scala.collection.mutable.ResizableArray$class.foreach(ResizableArray.scala:59)\n\tat scala.collection.mutable.ArrayBuffer.foreach(ArrayBuffer.scala:48)\n\tat scala.collection.TraversableLike$class.map(TraversableLike.scala:234)\n\tat scala.collection.AbstractTraversable.map(Traversable.scala:104)\n\tat org.apache.spark.sql.catalyst.plans.QueryPlan.org$apache$spark$sql$catalyst$plans$QueryPlan$$recursiveTransform$1(QueryPlan.scala:120)\n\tat org.apache.spark.sql.catalyst.plans.QueryPlan$$anonfun$1.apply(QueryPlan.scala:125)\n\tat org.apache.spark.sql.catalyst.trees.TreeNode.mapProductIterator(TreeNode.scala:187)\n\tat org.apache.spark.sql.catalyst.plans.QueryPlan.mapExpressions(QueryPlan.scala:125)\n\tat org.apache.spark.sql.catalyst.plans.QueryPlan.transformExpressionsUp(QueryPlan.scala:95)\n\tat org.apache.spark.sql.catalyst.analysis.CheckAnalysis$$anonfun$checkAnalysis$1.apply(CheckAnalysis.scala:85)\n\tat org.apache.spark.sql.catalyst.analysis.CheckAnalysis$$anonfun$checkAnalysis$1.apply(CheckAnalysis.scala:80)\n\tat org.apache.spark.sql.catalyst.trees.TreeNode.foreachUp(TreeNode.scala:127)\n\tat org.apache.spark.sql.catalyst.analysis.CheckAnalysis$class.checkAnalysis(CheckAnalysis.scala:80)\n\tat org.apache.spark.sql.catalyst.analysis.Analyzer.checkAnalysis(Analyzer.scala:91)\n\tat org.apache.spark.sql.catalyst.analysis.Analyzer.executeAndCheck(Analyzer.scala:104)\n\tat org.apache.spark.sql.execution.QueryExecution.analyzed$lzycompute(QueryExecution.scala:57)\n\tat org.apache.spark.sql.execution.QueryExecution.analyzed(QueryExecution.scala:55)\n\tat org.apache.spark.sql.execution.QueryExecution.assertAnalyzed(QueryExecution.scala:47)\n\tat org.apache.spark.sql.Dataset$.ofRows(Dataset.scala:74)\n\tat org.apache.spark.sql.Dataset.org$apache$spark$sql$Dataset$$withPlan(Dataset.scala:3295)\n\tat org.apache.spark.sql.Dataset.select(Dataset.scala:1307)\n\tat sun.reflect.GeneratedMethodAccessor105.invoke(Unknown Source)\n\tat sun.reflect.DelegatingMethodAccessorImpl.invoke(DelegatingMethodAccessorImpl.java:43)\n\tat java.lang.reflect.Method.invoke(Method.java:498)\n\tat py4j.reflection.MethodInvoker.invoke(MethodInvoker.java:244)\n\tat py4j.reflection.ReflectionEngine.invoke(ReflectionEngine.java:357)\n\tat py4j.Gateway.invoke(Gateway.java:282)\n\tat py4j.commands.AbstractCommand.invokeMethod(AbstractCommand.java:132)\n\tat py4j.commands.CallCommand.execute(CallCommand.java:79)\n\tat py4j.GatewayConnection.run(GatewayConnection.java:214)\n\tat java.lang.Thread.run(Thread.java:748)\n",
      "\nDuring handling of the above exception, another exception occurred:\n",
      "\u001b[0;31mAnalysisException\u001b[0m                         Traceback (most recent call last)",
      "\u001b[0;32m<ipython-input-43-118fe5bd1110>\u001b[0m in \u001b[0;36m<module>\u001b[0;34m()\u001b[0m\n\u001b[0;32m----> 1\u001b[0;31m \u001b[0mdata\u001b[0m\u001b[0;34m.\u001b[0m\u001b[0mselect\u001b[0m\u001b[0;34m(\u001b[0m\u001b[0;34m'retweeted_by'\u001b[0m\u001b[0;34m)\u001b[0m\u001b[0;34m.\u001b[0m\u001b[0mshow\u001b[0m\u001b[0;34m(\u001b[0m\u001b[0;36m10\u001b[0m\u001b[0;34m)\u001b[0m\u001b[0;34m\u001b[0m\u001b[0m\n\u001b[0m",
      "\u001b[0;32m~/Apache/spark-2.3.0/python/pyspark/sql/dataframe.py\u001b[0m in \u001b[0;36mselect\u001b[0;34m(self, *cols)\u001b[0m\n\u001b[1;32m   1200\u001b[0m         \u001b[0;34m[\u001b[0m\u001b[0mRow\u001b[0m\u001b[0;34m(\u001b[0m\u001b[0mname\u001b[0m\u001b[0;34m=\u001b[0m\u001b[0;34mu'Alice'\u001b[0m\u001b[0;34m,\u001b[0m \u001b[0mage\u001b[0m\u001b[0;34m=\u001b[0m\u001b[0;36m12\u001b[0m\u001b[0;34m)\u001b[0m\u001b[0;34m,\u001b[0m \u001b[0mRow\u001b[0m\u001b[0;34m(\u001b[0m\u001b[0mname\u001b[0m\u001b[0;34m=\u001b[0m\u001b[0;34mu'Bob'\u001b[0m\u001b[0;34m,\u001b[0m \u001b[0mage\u001b[0m\u001b[0;34m=\u001b[0m\u001b[0;36m15\u001b[0m\u001b[0;34m)\u001b[0m\u001b[0;34m]\u001b[0m\u001b[0;34m\u001b[0m\u001b[0m\n\u001b[1;32m   1201\u001b[0m         \"\"\"\n\u001b[0;32m-> 1202\u001b[0;31m         \u001b[0mjdf\u001b[0m \u001b[0;34m=\u001b[0m \u001b[0mself\u001b[0m\u001b[0;34m.\u001b[0m\u001b[0m_jdf\u001b[0m\u001b[0;34m.\u001b[0m\u001b[0mselect\u001b[0m\u001b[0;34m(\u001b[0m\u001b[0mself\u001b[0m\u001b[0;34m.\u001b[0m\u001b[0m_jcols\u001b[0m\u001b[0;34m(\u001b[0m\u001b[0;34m*\u001b[0m\u001b[0mcols\u001b[0m\u001b[0;34m)\u001b[0m\u001b[0;34m)\u001b[0m\u001b[0;34m\u001b[0m\u001b[0m\n\u001b[0m\u001b[1;32m   1203\u001b[0m         \u001b[0;32mreturn\u001b[0m \u001b[0mDataFrame\u001b[0m\u001b[0;34m(\u001b[0m\u001b[0mjdf\u001b[0m\u001b[0;34m,\u001b[0m \u001b[0mself\u001b[0m\u001b[0;34m.\u001b[0m\u001b[0msql_ctx\u001b[0m\u001b[0;34m)\u001b[0m\u001b[0;34m\u001b[0m\u001b[0m\n\u001b[1;32m   1204\u001b[0m \u001b[0;34m\u001b[0m\u001b[0m\n",
      "\u001b[0;32m~/Apache/spark-2.3.0/python/lib/py4j-0.10.6-src.zip/py4j/java_gateway.py\u001b[0m in \u001b[0;36m__call__\u001b[0;34m(self, *args)\u001b[0m\n\u001b[1;32m   1158\u001b[0m         \u001b[0manswer\u001b[0m \u001b[0;34m=\u001b[0m \u001b[0mself\u001b[0m\u001b[0;34m.\u001b[0m\u001b[0mgateway_client\u001b[0m\u001b[0;34m.\u001b[0m\u001b[0msend_command\u001b[0m\u001b[0;34m(\u001b[0m\u001b[0mcommand\u001b[0m\u001b[0;34m)\u001b[0m\u001b[0;34m\u001b[0m\u001b[0m\n\u001b[1;32m   1159\u001b[0m         return_value = get_return_value(\n\u001b[0;32m-> 1160\u001b[0;31m             answer, self.gateway_client, self.target_id, self.name)\n\u001b[0m\u001b[1;32m   1161\u001b[0m \u001b[0;34m\u001b[0m\u001b[0m\n\u001b[1;32m   1162\u001b[0m         \u001b[0;32mfor\u001b[0m \u001b[0mtemp_arg\u001b[0m \u001b[0;32min\u001b[0m \u001b[0mtemp_args\u001b[0m\u001b[0;34m:\u001b[0m\u001b[0;34m\u001b[0m\u001b[0m\n",
      "\u001b[0;32m~/Apache/spark-2.3.0/python/pyspark/sql/utils.py\u001b[0m in \u001b[0;36mdeco\u001b[0;34m(*a, **kw)\u001b[0m\n\u001b[1;32m     67\u001b[0m                                              e.java_exception.getStackTrace()))\n\u001b[1;32m     68\u001b[0m             \u001b[0;32mif\u001b[0m \u001b[0ms\u001b[0m\u001b[0;34m.\u001b[0m\u001b[0mstartswith\u001b[0m\u001b[0;34m(\u001b[0m\u001b[0;34m'org.apache.spark.sql.AnalysisException: '\u001b[0m\u001b[0;34m)\u001b[0m\u001b[0;34m:\u001b[0m\u001b[0;34m\u001b[0m\u001b[0m\n\u001b[0;32m---> 69\u001b[0;31m                 \u001b[0;32mraise\u001b[0m \u001b[0mAnalysisException\u001b[0m\u001b[0;34m(\u001b[0m\u001b[0ms\u001b[0m\u001b[0;34m.\u001b[0m\u001b[0msplit\u001b[0m\u001b[0;34m(\u001b[0m\u001b[0;34m': '\u001b[0m\u001b[0;34m,\u001b[0m \u001b[0;36m1\u001b[0m\u001b[0;34m)\u001b[0m\u001b[0;34m[\u001b[0m\u001b[0;36m1\u001b[0m\u001b[0;34m]\u001b[0m\u001b[0;34m,\u001b[0m \u001b[0mstackTrace\u001b[0m\u001b[0;34m)\u001b[0m\u001b[0;34m\u001b[0m\u001b[0m\n\u001b[0m\u001b[1;32m     70\u001b[0m             \u001b[0;32mif\u001b[0m \u001b[0ms\u001b[0m\u001b[0;34m.\u001b[0m\u001b[0mstartswith\u001b[0m\u001b[0;34m(\u001b[0m\u001b[0;34m'org.apache.spark.sql.catalyst.analysis'\u001b[0m\u001b[0;34m)\u001b[0m\u001b[0;34m:\u001b[0m\u001b[0;34m\u001b[0m\u001b[0m\n\u001b[1;32m     71\u001b[0m                 \u001b[0;32mraise\u001b[0m \u001b[0mAnalysisException\u001b[0m\u001b[0;34m(\u001b[0m\u001b[0ms\u001b[0m\u001b[0;34m.\u001b[0m\u001b[0msplit\u001b[0m\u001b[0;34m(\u001b[0m\u001b[0;34m': '\u001b[0m\u001b[0;34m,\u001b[0m \u001b[0;36m1\u001b[0m\u001b[0;34m)\u001b[0m\u001b[0;34m[\u001b[0m\u001b[0;36m1\u001b[0m\u001b[0;34m]\u001b[0m\u001b[0;34m,\u001b[0m \u001b[0mstackTrace\u001b[0m\u001b[0;34m)\u001b[0m\u001b[0;34m\u001b[0m\u001b[0m\n",
      "\u001b[0;31mAnalysisException\u001b[0m: \"cannot resolve '`retweeted_by`' given input columns: [date_time, username, id, reply_to, url, likes_id, mod_text, positive, retweets, retweets_id, replies, favorites, negative, picture];;\\n'Project ['retweeted_by]\\n+- AnalysisBarrier\\n      +- Project [id#912L, username#913, date_time#914, url#915, reply_to#916, retweets#917L, favorites#918L, likes_id#919, retweets_id#920, picture#921, replies#922L, mod_text#923, positive#924, negative#925]\\n         +- Relation[id#912L,username#913,date_time#914,url#915,reply_to#916,retweets#917L,favorites#918L,likes_id#919,retweets_id#920,picture#921,replies#922L,mod_text#923,positive#924,negative#925,__index_level_0__#926L] parquet\\n\""
     ]
    }
   ],
   "source": [
    "data.select('retweeted_by').show(10)"
   ]
  },
  {
   "cell_type": "code",
   "execution_count": null,
   "metadata": {
    "collapsed": true
   },
   "outputs": [],
   "source": [
    "wind = Window \n",
    "    .partitionBy(col(\"username\")) \\\n",
    "    .rangeBetween(-sys.maxsize, sys.maxsize)"
   ]
  },
  {
   "cell_type": "code",
   "execution_count": null,
   "metadata": {},
   "outputs": [],
   "source": [
    "data = data.withColumn(\"variance\", variance(\"replies\").over(Window.partitionBy(col(\"username\"))))"
   ]
  },
  {
   "cell_type": "code",
   "execution_count": null,
   "metadata": {},
   "outputs": [],
   "source": [
    "data.select('username', 'replies', 'variance').show(10)"
   ]
  },
  {
   "cell_type": "markdown",
   "metadata": {},
   "source": [
    "## Length of tweets"
   ]
  },
  {
   "cell_type": "code",
   "execution_count": null,
   "metadata": {},
   "outputs": [],
   "source": [
    "_sizes2 = data.filter(col(\"len\").isNotNull()).filter(col(\"date_time\")>datetime.datetime(2017, 11, 7, 0, 0, 0)).select(col(\"len\")).collect()"
   ]
  },
  {
   "cell_type": "code",
   "execution_count": null,
   "metadata": {
    "collapsed": true
   },
   "outputs": [],
   "source": [
    "_sizes_old = data.filter(col(\"len\").isNotNull()).filter(col(\"date_time\")<datetime.datetime(2017, 11, 1, 0, 0, 0)).select(col(\"len\")).collect()"
   ]
  },
  {
   "cell_type": "markdown",
   "metadata": {},
   "source": [
    "# Visualisation"
   ]
  },
  {
   "cell_type": "code",
   "execution_count": null,
   "metadata": {
    "collapsed": true
   },
   "outputs": [],
   "source": [
    "from __future__ import absolute_import\n",
    "import matplotlib\n",
    "from matplotlib import pyplot as plt\n",
    "import seaborn as sns\n",
    "import os\n",
    "# SEA-BORN Modification\n",
    "def set_style():\n",
    "    plt.style.use(['seaborn-white', 'seaborn-paper'])\n",
    "    matplotlib.rc(\"font\", family=\"Times New Roman\")\n",
    "    sns.set(rc={'figure.figsize': (12, 8)})\n",
    "    sns.set(font_scale=1.8)\n",
    "    sns.set_style(\"whitegrid\")"
   ]
  },
  {
   "cell_type": "code",
   "execution_count": null,
   "metadata": {},
   "outputs": [],
   "source": [
    "set_style()\n",
    "def plot_Hist(data, save=False, bins=None, x_lim=(0, 320), color='firebrick', title='Lenght of Twitts', _xlabel='Lenght', yscale='linear'):\n",
    "    ax = sns.distplot(data, bins=bins, color=color, norm_hist=False, kde=False, hist_kws={\"alpha\": 0.8},\n",
    "                      label='Sample')\n",
    "    ax.set_yscale(yscale)\n",
    "    ax.set(xlabel=_xlabel, ylabel='Num. of tweets, '+yscale+' scale')\n",
    "    plt.plot([140, 140], [0, 350000], ls='--', linewidth=2, color='#0084b4')\n",
    "    plt.xlim(x_lim)\n",
    "    plt.legend(loc=1)\n",
    "    plt.tight_layout()\n",
    "    if save:\n",
    "        if not os.path.exists('Images/Histograms/'):\n",
    "            os.makedirs('Images/Histograms/')\n",
    "        plt.savefig('Images/Histograms/' + title + '.png')\n",
    "    plt.show()"
   ]
  },
  {
   "cell_type": "code",
   "execution_count": null,
   "metadata": {},
   "outputs": [],
   "source": [
    "plot_Hist(_sizes_old, color='#00aced', save=True)"
   ]
  },
  {
   "cell_type": "code",
   "execution_count": null,
   "metadata": {},
   "outputs": [],
   "source": [
    "plot_Hist(_sizes2, color='#00aced', save=True, title='280_limit')"
   ]
  },
  {
   "cell_type": "code",
   "execution_count": null,
   "metadata": {},
   "outputs": [],
   "source": [
    "plot_Hist(cnt_words, bins=16, color=\"lightblue\", x_lim=(0, 60), _xlabel='Cnt of words')"
   ]
  },
  {
   "cell_type": "code",
   "execution_count": null,
   "metadata": {
    "collapsed": true
   },
   "outputs": [],
   "source": []
  }
 ],
 "metadata": {
  "kernelspec": {
   "display_name": "Python [conda env:Spark]",
   "language": "python",
   "name": "conda-env-Spark-py"
  },
  "language_info": {
   "codemirror_mode": {
    "name": "ipython",
    "version": 3
   },
   "file_extension": ".py",
   "mimetype": "text/x-python",
   "name": "python",
   "nbconvert_exporter": "python",
   "pygments_lexer": "ipython3",
   "version": "3.6.2"
  }
 },
 "nbformat": 4,
 "nbformat_minor": 2
}
