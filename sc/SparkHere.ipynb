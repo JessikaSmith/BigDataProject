{
 "cells": [
  {
   "cell_type": "code",
   "execution_count": 1,
   "metadata": {
    "collapsed": true
   },
   "outputs": [],
   "source": [
    "import findspark\n",
    "findspark.init()\n",
    "import pyspark"
   ]
  },
  {
   "cell_type": "code",
   "execution_count": 2,
   "metadata": {
    "collapsed": true
   },
   "outputs": [],
   "source": [
    "from pyspark.sql import SparkSession\n",
    "from pyspark.sql.functions import *\n",
    "from pyspark.sql.types import *\n",
    "from pyspark.sql.window import Window\n",
    "import datetime, time "
   ]
  },
  {
   "cell_type": "code",
   "execution_count": 3,
   "metadata": {
    "collapsed": true
   },
   "outputs": [],
   "source": [
    "spark = SparkSession.builder.enableHiveSupport().master(\"local[*]\").appName(\"Twitter Stat\").getOrCreate() "
   ]
  },
  {
   "cell_type": "code",
   "execution_count": 71,
   "metadata": {
    "collapsed": true
   },
   "outputs": [],
   "source": [
    "data = spark.read.parquet(\"../data/twitter_sentiment.parquet\").drop('__index_level_0__').cache()"
   ]
  },
  {
   "cell_type": "markdown",
   "metadata": {},
   "source": [
    "## Data modification, features extraction"
   ]
  },
  {
   "cell_type": "code",
   "execution_count": 104,
   "metadata": {},
   "outputs": [],
   "source": [
    "wind = Window\\\n",
    "    .partitionBy(col(\"username\"))\n",
    "splitting = udf(lambda t: [(int(x.split(' : ')[0]) if x.split(' : ')[0]!='None' \\\n",
    "                            else int(-1)) for x in t.split(', ') if t!=-2], ArrayType(IntegerType()))"
   ]
  },
  {
   "cell_type": "code",
   "execution_count": 111,
   "metadata": {},
   "outputs": [],
   "source": [
    "result = data.withColumn(\"id\", col(\"id\").cast(LongType()))\\\n",
    "            .withColumn(\"Positive\", \n",
    "                       struct(\n",
    "                        col(\"positive_score\").alias('score'),\n",
    "                        variance(col(\"positive_score\")).over(wind).alias(\"var\"),\n",
    "                        mean(col(\"positive_score\")).over(wind).alias(\"mean\"),\n",
    "                        max(col(\"positive_score\")).over(wind).alias(\"max\"),\n",
    "                        min(col(\"positive_score\")).over(wind).alias(\"min\"),\n",
    "                        count(col(\"positive_score\")).over(wind).alias(\"cnt\"))).drop(\"positive_score\")\\\n",
    "            .withColumn(\"Neutral\", \n",
    "                       struct(\n",
    "                        col(\"neutral_score\").alias('score'),\n",
    "                        variance(col(\"neutral_score\")).over(wind).alias(\"var\"),\n",
    "                        mean(col(\"neutral_score\")).over(wind).alias(\"mean\"),\n",
    "                        max(col(\"neutral_score\")).over(wind).alias(\"max\"),\n",
    "                        min(col(\"neutral_score\")).over(wind).alias(\"min\"),\n",
    "                        count(col(\"neutral_score\")).over(wind).alias(\"cnt\"))).drop(\"neutral_score\")\\\n",
    "            .withColumn(\"Negative\", \n",
    "                       struct(\n",
    "                        col(\"negative_score\").alias('score'),\n",
    "                        variance(col(\"negative_score\")).over(wind).alias(\"var\"),\n",
    "                        mean(col(\"negative_score\")).over(wind).alias(\"mean\"),\n",
    "                        max(col(\"negative_score\")).over(wind).alias(\"max\"),\n",
    "                        min(col(\"negative_score\")).over(wind).alias(\"min\"),\n",
    "                        count(col(\"negative_score\")).over(wind).alias(\"cnt\"))).drop(\"negative_score\")\\\n",
    "            .na.fill({'retweets_id': -2, 'likes_id': -2})\\\n",
    "                    .withColumn('retweeted_by', splitting('retweets_id'))\\\n",
    "                    .withColumn('liked_by', splitting('likes_id')).drop('retweets_id', 'likes_id')"
   ]
  },
  {
   "cell_type": "code",
   "execution_count": 115,
   "metadata": {},
   "outputs": [],
   "source": [
    "result\\\n",
    "    .write.mode(\"overwrite\")\\\n",
    "    .parquet(\"../data/twitter_v2.parquet\")"
   ]
  },
  {
   "cell_type": "code",
   "execution_count": 116,
   "metadata": {
    "collapsed": true
   },
   "outputs": [],
   "source": [
    "t = spark.read.parquet(\"../data/twitter_v2.parquet\").cache()"
   ]
  },
  {
   "cell_type": "code",
   "execution_count": 118,
   "metadata": {},
   "outputs": [
    {
     "name": "stdout",
     "output_type": "stream",
     "text": [
      "root\n",
      " |-- username: string (nullable = true)\n",
      " |-- id: long (nullable = true)\n",
      " |-- text: string (nullable = true)\n",
      " |-- date_time: timestamp (nullable = true)\n",
      " |-- url: string (nullable = true)\n",
      " |-- reply_to: double (nullable = true)\n",
      " |-- retweets: double (nullable = true)\n",
      " |-- favorites: double (nullable = true)\n",
      " |-- picture: string (nullable = true)\n",
      " |-- replies: double (nullable = true)\n",
      " |-- x: string (nullable = true)\n",
      " |-- name: string (nullable = true)\n",
      " |-- tweets_number: double (nullable = true)\n",
      " |-- followers_number: double (nullable = true)\n",
      " |-- following_number: double (nullable = true)\n",
      " |-- favorites_number: double (nullable = true)\n",
      " |-- bio: string (nullable = true)\n",
      " |-- place: string (nullable = true)\n",
      " |-- place_id: string (nullable = true)\n",
      " |-- site: string (nullable = true)\n",
      " |-- birth: string (nullable = true)\n",
      " |-- creation: string (nullable = true)\n",
      " |-- Positive: struct (nullable = true)\n",
      " |    |-- score: double (nullable = true)\n",
      " |    |-- var: double (nullable = true)\n",
      " |    |-- mean: double (nullable = true)\n",
      " |    |-- max: double (nullable = true)\n",
      " |    |-- min: double (nullable = true)\n",
      " |    |-- cnt: long (nullable = true)\n",
      " |-- Neutral: struct (nullable = true)\n",
      " |    |-- score: double (nullable = true)\n",
      " |    |-- var: double (nullable = true)\n",
      " |    |-- mean: double (nullable = true)\n",
      " |    |-- max: double (nullable = true)\n",
      " |    |-- min: double (nullable = true)\n",
      " |    |-- cnt: long (nullable = true)\n",
      " |-- Negative: struct (nullable = true)\n",
      " |    |-- score: double (nullable = true)\n",
      " |    |-- var: double (nullable = true)\n",
      " |    |-- mean: double (nullable = true)\n",
      " |    |-- max: double (nullable = true)\n",
      " |    |-- min: double (nullable = true)\n",
      " |    |-- cnt: long (nullable = true)\n",
      " |-- retweeted_by: array (nullable = true)\n",
      " |    |-- element: integer (containsNull = true)\n",
      " |-- liked_by: array (nullable = true)\n",
      " |    |-- element: integer (containsNull = true)\n",
      "\n"
     ]
    }
   ],
   "source": [
    "t.printSchema()"
   ]
  },
  {
   "cell_type": "markdown",
   "metadata": {},
   "source": [
    "## Length of tweets"
   ]
  },
  {
   "cell_type": "code",
   "execution_count": null,
   "metadata": {
    "collapsed": true
   },
   "outputs": [],
   "source": [
    "_sizes2 = data.filter(col(\"len\").isNotNull()).filter(col(\"date_time\")>datetime.datetime(2017, 11, 7, 0, 0, 0)).select(col(\"len\")).collect()"
   ]
  },
  {
   "cell_type": "code",
   "execution_count": null,
   "metadata": {
    "collapsed": true
   },
   "outputs": [],
   "source": [
    "_sizes_old = data.filter(col(\"len\").isNotNull()).filter(col(\"date_time\")<datetime.datetime(2017, 11, 1, 0, 0, 0)).select(col(\"len\")).collect()"
   ]
  },
  {
   "cell_type": "markdown",
   "metadata": {},
   "source": [
    "# Visualisation"
   ]
  },
  {
   "cell_type": "code",
   "execution_count": null,
   "metadata": {
    "collapsed": true
   },
   "outputs": [],
   "source": [
    "from __future__ import absolute_import\n",
    "import matplotlib\n",
    "from matplotlib import pyplot as plt\n",
    "import seaborn as sns\n",
    "import os\n",
    "# SEA-BORN Modification\n",
    "def set_style():\n",
    "    plt.style.use(['seaborn-white', 'seaborn-paper'])\n",
    "    matplotlib.rc(\"font\", family=\"Times New Roman\")\n",
    "    sns.set(rc={'figure.figsize': (12, 8)})\n",
    "    sns.set(font_scale=1.8)\n",
    "    sns.set_style(\"whitegrid\")"
   ]
  },
  {
   "cell_type": "code",
   "execution_count": null,
   "metadata": {
    "collapsed": true
   },
   "outputs": [],
   "source": [
    "set_style()\n",
    "def plot_Hist(data, save=False, bins=None, x_lim=(0, 320), color='firebrick', title='Lenght of Twitts', _xlabel='Lenght', yscale='linear'):\n",
    "    ax = sns.distplot(data, bins=bins, color=color, norm_hist=False, kde=False, hist_kws={\"alpha\": 0.8},\n",
    "                      label='Sample')\n",
    "    ax.set_yscale(yscale)\n",
    "    ax.set(xlabel=_xlabel, ylabel='Num. of tweets, '+yscale+' scale')\n",
    "    plt.plot([140, 140], [0, 350000], ls='--', linewidth=2, color='#0084b4')\n",
    "    plt.xlim(x_lim)\n",
    "    plt.legend(loc=1)\n",
    "    plt.tight_layout()\n",
    "    if save:\n",
    "        if not os.path.exists('Images/Histograms/'):\n",
    "            os.makedirs('Images/Histograms/')\n",
    "        plt.savefig('Images/Histograms/' + title + '.png')\n",
    "    plt.show()"
   ]
  },
  {
   "cell_type": "code",
   "execution_count": null,
   "metadata": {
    "collapsed": true
   },
   "outputs": [],
   "source": [
    "plot_Hist(_sizes_old, color='#00aced', save=True)"
   ]
  },
  {
   "cell_type": "code",
   "execution_count": null,
   "metadata": {
    "collapsed": true
   },
   "outputs": [],
   "source": [
    "plot_Hist(_sizes2, color='#00aced', save=True, title='280_limit')"
   ]
  },
  {
   "cell_type": "code",
   "execution_count": null,
   "metadata": {
    "collapsed": true
   },
   "outputs": [],
   "source": [
    "plot_Hist(cnt_words, bins=16, color=\"lightblue\", x_lim=(0, 60), _xlabel='Cnt of words')"
   ]
  },
  {
   "cell_type": "code",
   "execution_count": null,
   "metadata": {
    "collapsed": true
   },
   "outputs": [],
   "source": []
  }
 ],
 "metadata": {
  "kernelspec": {
   "display_name": "Python [conda env:Spark]",
   "language": "python",
   "name": "conda-env-Spark-py"
  },
  "language_info": {
   "codemirror_mode": {
    "name": "ipython",
    "version": 3
   },
   "file_extension": ".py",
   "mimetype": "text/x-python",
   "name": "python",
   "nbconvert_exporter": "python",
   "pygments_lexer": "ipython3",
   "version": "3.6.2"
  }
 },
 "nbformat": 4,
 "nbformat_minor": 2
}
